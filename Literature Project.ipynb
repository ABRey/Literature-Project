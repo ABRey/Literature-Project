{
 "cells": [
  {
   "cell_type": "code",
   "execution_count": null,
   "metadata": {
    "collapsed": true
   },
   "outputs": [],
   "source": [
    "import numpy as np"
   ]
  },
  {
   "cell_type": "code",
   "execution_count": null,
   "metadata": {
    "collapsed": false
   },
   "outputs": [],
   "source": [
    "#test table\n",
    "data = Table.read_table('dummy_data.csv')\n",
    "data"
   ]
  },
  {
   "cell_type": "code",
   "execution_count": null,
   "metadata": {
    "collapsed": false
   },
   "outputs": [],
   "source": [
    "#Table with survey data\n",
    "data = Table.read_table('amsnd_survey.csv')\n",
    "data"
   ]
  },
  {
   "cell_type": "code",
   "execution_count": null,
   "metadata": {
    "collapsed": false
   },
   "outputs": [],
   "source": [
    "#Average of all averages\n",
    "mean=np.mean(data.column('Average Value'))"
   ]
  },
  {
   "cell_type": "code",
   "execution_count": null,
   "metadata": {
    "collapsed": false
   },
   "outputs": [],
   "source": [
    "#Sets the value to meet requirement for 2 sd's above average\n",
    "two_sds_above=np.std(data.column('Average Value'))*1.96+mean\n",
    "two_sds_above"
   ]
  },
  {
   "cell_type": "code",
   "execution_count": null,
   "metadata": {
    "collapsed": false
   },
   "outputs": [],
   "source": [
    "#Array of booleans for each average\n",
    "is_two_above=data.column('Average Value')>=two_sds_above\n",
    "is_two_above"
   ]
  },
  {
   "cell_type": "code",
   "execution_count": null,
   "metadata": {
    "collapsed": false
   },
   "outputs": [],
   "source": [
    "#append array to table\n",
    "data.append_column('two sds above average?',is_two_above)\n",
    "data"
   ]
  },
  {
   "cell_type": "code",
   "execution_count": null,
   "metadata": {
    "collapsed": false
   },
   "outputs": [],
   "source": [
    "#all passages that are 2 sds above average\n",
    "data.where('two sds above average?',True)"
   ]
  },
  {
   "cell_type": "code",
   "execution_count": null,
   "metadata": {
    "collapsed": true
   },
   "outputs": [],
   "source": [
    "At least two Sds above average\n",
    "\n",
    "9.  Are not you he\n",
    "    That frights the maidens of the villagery,\n",
    "    Skim milk, and sometimes labour in the quern,\n",
    "    And bootless make the breathless housewife churn,\n",
    "    And sometime make the drink to bear no barm,\n",
    "    Mislead night-wanderers, laughing at their harm?\n",
    "    Those that Hobgoblin call you, and sweet Puck,\n",
    "    You do their work, and they shall have good luck.\n",
    "    Are not you he?\n",
    "    \n",
    "10.   PUCK. Thou speakest aright:\n",
    "    I am that merry wanderer of the night.\n",
    "    I jest to Oberon, and make him smile\n",
    "    When I a fat and bean-fed horse beguile,\n",
    "    Neighing in likeness of a filly foal;\n",
    "    And sometime lurk I in a gossip's bowl\n",
    "    In very likeness of a roasted crab,\n",
    "    And, when she drinks, against her lips I bob,\n",
    "    And on her withered dewlap pour the ale.\n",
    "    \n",
    "11.     The wisest aunt, telling the saddest tale,\n",
    "    Sometime for three-foot stool mistaketh me;\n",
    "    Then slip I from her bum, down topples she,\n",
    "    And 'tailor' cries, and falls into a cough;\n",
    "    And then the whole quire hold their hips and laugh,\n",
    "    And waxen in their mirth, and neeze, and swear\n",
    "    A merrier hour was never wasted there.\n",
    "    But room, fairy, here comes Oberon.\n",
    "    \n",
    "45.   PUCK. I'll put a girdle round about the earth\n",
    "    In forty minutes.\n",
    "    \n",
    "47.     The next thing then she waking looks upon,\n",
    "    Be it on lion, bear, or wolf, or bull,\n",
    "    On meddling monkey, or on busy ape,\n",
    "    She shall pursue it with the soul of love.\n",
    "    \n",
    "124.    Not Hermia but Helena I love:\n",
    "    Who will not change a raven for a dove?\n",
    "    The will of man is by his reason sway'd,\n",
    "    And reason says you are the worthier maid."
   ]
  },
  {
   "cell_type": "code",
   "execution_count": null,
   "metadata": {
    "collapsed": false
   },
   "outputs": [],
   "source": [
    "#speaker and listener for top ten passages by average value\n",
    "top_ten=data.sort('Average Value',descending=True).select('Speaker/Listener').take(range(10))\n",
    "top_ten"
   ]
  },
  {
   "cell_type": "code",
   "execution_count": null,
   "metadata": {
    "collapsed": false
   },
   "outputs": [],
   "source": [
    "top_ten.group('Speaker/Listener')"
   ]
  },
  {
   "cell_type": "code",
   "execution_count": null,
   "metadata": {
    "collapsed": false
   },
   "outputs": [],
   "source": [
    "#speaker and listener for top twenty passages by average value\n",
    "top_twenty=data.sort('Average Value',descending=True).select('Speaker/Listener').take(range(20))\n",
    "top_twenty"
   ]
  },
  {
   "cell_type": "code",
   "execution_count": null,
   "metadata": {
    "collapsed": false
   },
   "outputs": [],
   "source": [
    "top_twenty.group('Speaker/Listener')"
   ]
  },
  {
   "cell_type": "code",
   "execution_count": null,
   "metadata": {
    "collapsed": false
   },
   "outputs": [],
   "source": [
    "#Table of only low to low\n",
    "low_low = data.where('Speaker/Listener','low to low')"
   ]
  },
  {
   "cell_type": "code",
   "execution_count": null,
   "metadata": {
    "collapsed": false
   },
   "outputs": [],
   "source": [
    "low_low"
   ]
  },
  {
   "cell_type": "code",
   "execution_count": null,
   "metadata": {
    "collapsed": false
   },
   "outputs": [],
   "source": [
    "#average of all averages for low to low\n",
    "low_low_avg = np.mean(low_low.column('Average Value'))\n",
    "low_low_avg"
   ]
  },
  {
   "cell_type": "code",
   "execution_count": null,
   "metadata": {
    "collapsed": false
   },
   "outputs": [],
   "source": [
    "#passages with the highest sd in low to low\n",
    "low_low_maxsd = max(low_low.column('Standard Deviation'))\n",
    "low_low.where('Standard Deviation',low_low_maxsd)"
   ]
  },
  {
   "cell_type": "code",
   "execution_count": null,
   "metadata": {
    "collapsed": false
   },
   "outputs": [],
   "source": [
    "Most Disagreement\n",
    "\n",
    "3.               And I serve the Fairy Queen,\n",
    "              To dew her orbs upon the green.\n",
    "              The cowslips tall her pensioners be;\n",
    "              In their gold coats spots you see;\n",
    "              Those be rubies, fairy favours,\n",
    "              In those freckles live their savours. \n",
    "            \n",
    "5.  PUCK. The King doth keep his revels here to-night; \n",
    "    Take heed the Queen come not within his sight;\n",
    "    For Oberon is passing fell and wrath,\n",
    "    Because that she as her attendant hath\n",
    "    A lovely boy, stolen from an Indian king.\n",
    "    \n",
    "7.    And now they never meet in grove or green,\n",
    "    By fountain clear, or spangled starlight sheen,\n",
    "    But they do square, that all their elves for fear\n",
    "    Creep into acorn cups and hide them there."
   ]
  },
  {
   "cell_type": "code",
   "execution_count": null,
   "metadata": {
    "collapsed": false
   },
   "outputs": [],
   "source": [
    "low_low_best = low_low.sort('Average Value',descending = True).column('Average Value').item(0)\n",
    "low_low_best"
   ]
  },
  {
   "cell_type": "code",
   "execution_count": null,
   "metadata": {
    "collapsed": false
   },
   "outputs": [],
   "source": [
    "#passages with the highest average in low to low\n",
    "low_low.where('Average Value',low_low_best)"
   ]
  },
  {
   "cell_type": "code",
   "execution_count": null,
   "metadata": {
    "collapsed": true
   },
   "outputs": [],
   "source": [
    "Highest average rating\n",
    "\n",
    "10.  PUCK. Thou speakest aright:\n",
    "    I am that merry wanderer of the night.\n",
    "    I jest to Oberon, and make him smile\n",
    "    When I a fat and bean-fed horse beguile,\n",
    "    Neighing in likeness of a filly foal;\n",
    "    And sometime lurk I in a gossip's bowl\n",
    "    In very likeness of a roasted crab,\n",
    "    And, when she drinks, against her lips I bob,\n",
    "    And on her withered dewlap pour the ale."
   ]
  },
  {
   "cell_type": "code",
   "execution_count": null,
   "metadata": {
    "collapsed": true
   },
   "outputs": [],
   "source": [
    "#Same steps repeated below for every other combination of high and low"
   ]
  },
  {
   "cell_type": "code",
   "execution_count": null,
   "metadata": {
    "collapsed": false,
    "scrolled": true
   },
   "outputs": [],
   "source": [
    "high_high = data.where('Speaker/Listener','high to high')\n",
    "high_high"
   ]
  },
  {
   "cell_type": "code",
   "execution_count": null,
   "metadata": {
    "collapsed": false
   },
   "outputs": [],
   "source": [
    "high_high_avg = np.mean(high_high.column('Average Value'))\n",
    "high_high_avg"
   ]
  },
  {
   "cell_type": "code",
   "execution_count": null,
   "metadata": {
    "collapsed": false
   },
   "outputs": [],
   "source": [
    "high_high_maxsd = max(high_high.column('Standard Deviation'))\n",
    "high_high.where('Standard Deviation',high_high_maxsd)"
   ]
  },
  {
   "cell_type": "code",
   "execution_count": null,
   "metadata": {
    "collapsed": true
   },
   "outputs": [],
   "source": [
    "Most disagreement\n",
    "\n",
    "15.  OBERON. Tarry, rash wanton; am not I thy lord?"
   ]
  },
  {
   "cell_type": "code",
   "execution_count": null,
   "metadata": {
    "collapsed": false
   },
   "outputs": [],
   "source": [
    "high_high_best = high_high.sort('Average Value',descending = True).column('Average Value').item(0)\n",
    "high_high_best"
   ]
  },
  {
   "cell_type": "code",
   "execution_count": null,
   "metadata": {
    "collapsed": false
   },
   "outputs": [],
   "source": [
    "high_high.where('Average Value',high_high_best)"
   ]
  },
  {
   "cell_type": "code",
   "execution_count": null,
   "metadata": {
    "collapsed": true
   },
   "outputs": [],
   "source": [
    "Highest average rating\n",
    "\n",
    "92.    Be it ounce, or cat, or bear,\n",
    "    Pard, or boar with bristled hair,\n",
    "    In thy eye that shall appear\n",
    "    When thou wak'st, it is thy dear. \n",
    "    Wake when some vile thing is near."
   ]
  },
  {
   "cell_type": "code",
   "execution_count": null,
   "metadata": {
    "collapsed": false
   },
   "outputs": [],
   "source": [
    "high_low = data.where('Speaker/Listener','high to low')\n",
    "high_low"
   ]
  },
  {
   "cell_type": "code",
   "execution_count": null,
   "metadata": {
    "collapsed": false
   },
   "outputs": [],
   "source": [
    "high_low_avg = np.mean(high_low.column('Average Value'))\n",
    "high_low_avg"
   ]
  },
  {
   "cell_type": "code",
   "execution_count": null,
   "metadata": {
    "collapsed": false
   },
   "outputs": [],
   "source": [
    "high_low_maxsd = max(high_low.column('Standard Deviation'))\n",
    "high_low.where('Standard Deviation',high_low_maxsd)"
   ]
  },
  {
   "cell_type": "code",
   "execution_count": null,
   "metadata": {
    "collapsed": true
   },
   "outputs": [],
   "source": [
    "Most disagreement\n",
    "\n",
    "55.  DEMETRIUS. Do I entice you? Do I speak you fair?\n",
    "    Or, rather, do I not in plainest truth\n",
    "    Tell you I do not nor I cannot love you?\n",
    "    \n",
    "62.  DEMETRIUS. You do impeach your modesty too much\n",
    "    To leave the city and commit yourself\n",
    "    Into the hands of one that loves you not;"
   ]
  },
  {
   "cell_type": "code",
   "execution_count": null,
   "metadata": {
    "collapsed": false
   },
   "outputs": [],
   "source": [
    "high_low_best = high_low.sort('Average Value',descending = True).column('Average Value').item(0)\n",
    "high_low_best"
   ]
  },
  {
   "cell_type": "code",
   "execution_count": null,
   "metadata": {
    "collapsed": false
   },
   "outputs": [],
   "source": [
    "high_low.where('Average Value',high_low_best)"
   ]
  },
  {
   "cell_type": "code",
   "execution_count": null,
   "metadata": {
    "collapsed": true
   },
   "outputs": [],
   "source": [
    "Highest average rating\n",
    "\n",
    "47.    The next thing then she waking looks upon,\n",
    "    Be it on lion, bear, or wolf, or bull,\n",
    "    On meddling monkey, or on busy ape,\n",
    "    She shall pursue it with the soul of love.\n",
    "    \n",
    "124.    Not Hermia but Helena I love:\n",
    "    Who will not change a raven for a dove?\n",
    "    The will of man is by his reason sway'd,\n",
    "    And reason says you are the worthier maid."
   ]
  },
  {
   "cell_type": "code",
   "execution_count": null,
   "metadata": {
    "collapsed": false
   },
   "outputs": [],
   "source": [
    "low_high = data.where('Speaker/Listener','low to high')\n",
    "low_high"
   ]
  },
  {
   "cell_type": "code",
   "execution_count": null,
   "metadata": {
    "collapsed": false
   },
   "outputs": [],
   "source": [
    "low_high_avg = np.mean(low_high.column('Average Value'))\n",
    "low_high_avg"
   ]
  },
  {
   "cell_type": "code",
   "execution_count": null,
   "metadata": {
    "collapsed": false
   },
   "outputs": [],
   "source": [
    "low_high_maxsd = max(low_high.column('Standard Deviation'))\n",
    "low_high.where('Standard Deviation',low_high_maxsd)"
   ]
  },
  {
   "cell_type": "code",
   "execution_count": null,
   "metadata": {
    "collapsed": true
   },
   "outputs": [],
   "source": [
    "Most disagreement\n",
    "\n",
    "61.  HELENA. And I am sick when I look not on you.\n",
    "\n",
    "71.  Your wrongs do set a scandal on my sex."
   ]
  },
  {
   "cell_type": "code",
   "execution_count": null,
   "metadata": {
    "collapsed": false
   },
   "outputs": [],
   "source": [
    "low_high_best = low_high.sort('Average Value',descending = True).column('Average Value').item(0)\n",
    "low_high_best"
   ]
  },
  {
   "cell_type": "code",
   "execution_count": null,
   "metadata": {
    "collapsed": false
   },
   "outputs": [],
   "source": [
    "low_high.where('Average Value',low_high_best)"
   ]
  },
  {
   "cell_type": "code",
   "execution_count": null,
   "metadata": {
    "collapsed": true
   },
   "outputs": [],
   "source": [
    "Highest average rating'\n",
    "\n",
    "45.  PUCK. I'll put a girdle round about the earth\n",
    "    In forty minutes."
   ]
  }
 ],
 "metadata": {
  "kernelspec": {
   "display_name": "Python 3",
   "language": "python",
   "name": "python3"
  },
  "language_info": {
   "codemirror_mode": {
    "name": "ipython",
    "version": 3
   },
   "file_extension": ".py",
   "mimetype": "text/x-python",
   "name": "python",
   "nbconvert_exporter": "python",
   "pygments_lexer": "ipython3",
   "version": "3.4.4"
  }
 },
 "nbformat": 4,
 "nbformat_minor": 0
}
